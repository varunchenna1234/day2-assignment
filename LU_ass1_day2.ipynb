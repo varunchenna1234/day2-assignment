{
  "nbformat": 4,
  "nbformat_minor": 0,
  "metadata": {
    "colab": {
      "name": "LU ass1 day2.ipynb",
      "provenance": [],
      "authorship_tag": "ABX9TyPeE0IyEV65VXTKCFwkMqJw",
      "include_colab_link": true
    },
    "kernelspec": {
      "name": "python3",
      "display_name": "Python 3"
    }
  },
  "cells": [
    {
      "cell_type": "markdown",
      "metadata": {
        "id": "view-in-github",
        "colab_type": "text"
      },
      "source": [
        "<a href=\"https://colab.research.google.com/github/varunchenna1234/day2-assignment/blob/master/LU_ass1_day2.ipynb\" target=\"_parent\"><img src=\"https://colab.research.google.com/assets/colab-badge.svg\" alt=\"Open In Colab\"/></a>"
      ]
    },
    {
      "cell_type": "code",
      "metadata": {
        "id": "zBdz2mB9mptW",
        "colab_type": "code",
        "colab": {
          "base_uri": "https://localhost:8080/",
          "height": 51
        },
        "outputId": "10c45484-a9ae-4b1f-972e-941c62cc4ea8"
      },
      "source": [
        "#List and its Functions\n",
        "lst=[1,5,3,6,\"hello\"]\n",
        "lst.append(\"HI\")#add HI to the list\n",
        "lst.remove(\"HI\")\n",
        "lst.reverse()\n",
        "lst.pop() #delete 1 since it is the last element when we reverse the order\n",
        "a=lst.copy()#copies list lst to a \n",
        "print(a)\n",
        "lst.remove(\"hello\")\n",
        "lst.sort()#Sorting the elements\n",
        "lst"
      ],
      "execution_count": null,
      "outputs": [
        {
          "output_type": "stream",
          "text": [
            "['hello', 6, 3, 5]\n"
          ],
          "name": "stdout"
        },
        {
          "output_type": "execute_result",
          "data": {
            "text/plain": [
              "list"
            ]
          },
          "metadata": {
            "tags": []
          },
          "execution_count": 16
        }
      ]
    },
    {
      "cell_type": "code",
      "metadata": {
        "id": "rLm6KpQsmvWE",
        "colab_type": "code",
        "colab": {
          "base_uri": "https://localhost:8080/",
          "height": 51
        },
        "outputId": "f938b953-328b-48ef-be56-7b79dd5ffe9b"
      },
      "source": [
        "#dictionary and its Functions\n",
        "dic={\"sai\":20,\"varun\":19}\n",
        "dic.get(\"sai\") #returns the value of sai\n",
        "dic.values()#returns the values\n",
        "dic.pop(\"sai\")#deletes sai\n",
        "dic.items()#shows the items in dictionary\n",
        "a=dic.copy()#copies to a\n",
        "print(a)\n",
        "type(dic)"
      ],
      "execution_count": null,
      "outputs": [
        {
          "output_type": "stream",
          "text": [
            "{'varun': 19}\n"
          ],
          "name": "stdout"
        },
        {
          "output_type": "execute_result",
          "data": {
            "text/plain": [
              "dict"
            ]
          },
          "metadata": {
            "tags": []
          },
          "execution_count": 15
        }
      ]
    },
    {
      "cell_type": "code",
      "metadata": {
        "id": "M2oWtGQEVvd5",
        "colab_type": "code",
        "colab": {
          "base_uri": "https://localhost:8080/",
          "height": 35
        },
        "outputId": "47410861-6b09-4d38-9b6c-db9f5d05ebfd"
      },
      "source": [
        "#String and its functions\n",
        "s=\"hello\"\n",
        "s.capitalize()#capitalise the first word\n",
        "s.find('o')#provides the pos of 'o'\n",
        "s.islower()#returns true if the letters are lowercase otherwise false\n",
        "s.startswith(\"E\") #returns false since it starts with H\n",
        "s.replace(\"h\",\"Y\")#replaces h with y and gives Yello\n",
        "\n"
      ],
      "execution_count": null,
      "outputs": [
        {
          "output_type": "execute_result",
          "data": {
            "application/vnd.google.colaboratory.intrinsic+json": {
              "type": "string"
            },
            "text/plain": [
              "'Yello'"
            ]
          },
          "metadata": {
            "tags": []
          },
          "execution_count": 11
        }
      ]
    },
    {
      "cell_type": "code",
      "metadata": {
        "id": "unowtn3_XkjV",
        "colab_type": "code",
        "colab": {
          "base_uri": "https://localhost:8080/",
          "height": 34
        },
        "outputId": "c0f936ba-ca58-4aa0-cd5e-88c5c87f4c35"
      },
      "source": [
        "#Set and its Functions\n",
        "s=[\"he\",5,6,9,5,[8,6,6,3]]\n",
        "type(s)\n",
        "s.count(5)#Gives the count of 5\n",
        "s.append(10)#add 10 to the set at last posiion\n",
        "s.pop()#removes the last element\n",
        "s.reverse()#reverse the order of elements\n",
        "s.index(9)#gives 2 as output since we reversed the order\n"
      ],
      "execution_count": null,
      "outputs": [
        {
          "output_type": "execute_result",
          "data": {
            "text/plain": [
              "[[8, 6, 6, 3], 5, 9, 6, 5, 'he']"
            ]
          },
          "metadata": {
            "tags": []
          },
          "execution_count": 30
        }
      ]
    },
    {
      "cell_type": "code",
      "metadata": {
        "id": "hNFhAVj8aJQm",
        "colab_type": "code",
        "colab": {
          "base_uri": "https://localhost:8080/",
          "height": 34
        },
        "outputId": "df45c435-d023-486e-e556-339619f80bdc"
      },
      "source": [
        "#tuple and its function\n",
        "t=(1,65.2,\"hai\",59,70)\n",
        "type(t)\n",
        "t.count(70)#counts the occurence of number\n",
        "t.index(\"hai\")#returns the index of hai"
      ],
      "execution_count": null,
      "outputs": [
        {
          "output_type": "execute_result",
          "data": {
            "text/plain": [
              "2"
            ]
          },
          "metadata": {
            "tags": []
          },
          "execution_count": 34
        }
      ]
    }
  ]
}